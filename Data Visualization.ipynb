{
 "cells": [
  {
   "cell_type": "code",
   "execution_count": null,
   "metadata": {},
   "outputs": [],
   "source": [
    "import seaborn as sns\n",
    "import pandas\n",
    "import numpy as np"
   ]
  },
  {
   "cell_type": "code",
   "execution_count": null,
   "metadata": {},
   "outputs": [],
   "source": [
    "train_set_df = pandas.read_csv(\"data/training data/labeled_training_set.csv\")\n",
    "test_set_df = pandas.read_csv(\"data/test data/unlabeled_test_set.csv\")\n",
    "posts_traintest_df = pandas.read_csv(\"data/unlabeled data/posts_trainingandtest_fullsent.csv\")\n",
    "posts_test_df = pandas.read_csv(\"data/unlabeled data/posts_unlabeled_fullsent.csv\")\n",
    "comments_score_df = pandas.read_csv(\"data/unlabeled data/comments_score_unlabeled.csv\")"
   ]
  },
  {
   "cell_type": "code",
   "execution_count": null,
   "metadata": {},
   "outputs": [],
   "source": [
    "labels = ['Emotional_disclosure',\n",
    " 'Information_disclosure',\n",
    " 'Support',\n",
    " 'General_support',\n",
    " 'Info_support',\n",
    " 'Emo_support']"
   ]
  },
  {
   "cell_type": "code",
   "execution_count": null,
   "metadata": {},
   "outputs": [],
   "source": [
    "train_set_df.columns.values.tolist()\n",
    "train_set_df.head()"
   ]
  },
  {
   "cell_type": "code",
   "execution_count": null,
   "metadata": {},
   "outputs": [],
   "source": [
    "test_set_df.columns.values.tolist()"
   ]
  },
  {
   "cell_type": "code",
   "execution_count": null,
   "metadata": {},
   "outputs": [],
   "source": [
    "posts_traintest_df.columns.values.tolist()\n",
    "posts_traintest_df.head()"
   ]
  },
  {
   "cell_type": "code",
   "execution_count": null,
   "metadata": {},
   "outputs": [],
   "source": [
    "posts_test_df.columns.values.tolist()"
   ]
  },
  {
   "cell_type": "code",
   "execution_count": null,
   "metadata": {},
   "outputs": [],
   "source": [
    "comments_score_df = comments_score_df.rename(columns={\"V1\": \"full_text\"})\n",
    "comments_score_df.columns.values.tolist()"
   ]
  },
  {
   "cell_type": "code",
   "execution_count": null,
   "metadata": {},
   "outputs": [],
   "source": [
    "def consolidate_comments_with_posts():\n",
    "    post_comments = {}\n",
    "    total_comments_labeled = 0\n",
    "    total_comments_unlabeled = 0\n",
    "    \n",
    "    def add_new_key(pid):\n",
    "        post_comments[pid] = {\n",
    "            # \"comments\": [], \n",
    "            \"sentenceids\": [], \"nlabeled\": 0, \n",
    "                              \"authors\": [], \n",
    "            \"timestamp\": [], \n",
    "            \"wordcounts\": []}\n",
    "        for label in labels:\n",
    "            post_comments[pid][label] = []\n",
    "    \n",
    "    def add_comment_with_labels(pid, comment):\n",
    "        # post_comments[pid][\"comments\"].append(comment[\"full_text\"])\n",
    "        post_comments[pid][\"sentenceids\"].append(int(comment[\"sentenceid\"]))\n",
    "        post_comments[pid][\"wordcounts\"].append(comment[\"wordcount\"])\n",
    "        post_comments[pid][\"authors\"].append(comment[\"author\"])\n",
    "        post_comments[pid][\"timestamp\"].append(comment[\"created_utc\"])\n",
    "        for label in labels:\n",
    "            if label in comment:\n",
    "                post_comments[pid][label].append(comment[label])\n",
    "            else:\n",
    "                post_comments[pid][label].append(-1)\n",
    "        if \"Support\" in comment:\n",
    "            post_comments[pid][\"nlabeled\"] += 1\n",
    "    \n",
    "    for i, comment in train_set_df.iterrows():\n",
    "        post_id = comment[\"id\"]\n",
    "        if post_id not in post_comments: add_new_key(post_id)\n",
    "        add_comment_with_labels(post_id, comment)\n",
    "        total_comments_labeled += 1\n",
    "        # if i > 10: break\n",
    "    \n",
    "    for i, comment in comments_score_df.iterrows():\n",
    "        post_id = comment[\"id\"]\n",
    "        if post_id not in post_comments: add_new_key(post_id)\n",
    "        add_comment_with_labels(post_id, comment)\n",
    "        total_comments_unlabeled += 1\n",
    "        # if i > 10: break\n",
    "    \n",
    "#     for i, comment in test_set_df.iterrows():\n",
    "#         post_id = comment[\"id\"]\n",
    "#         if post_id not in post_comments: add_new_key(post_id)\n",
    "#         add_comment_with_labels(post_id, comment)\n",
    "#         total_comments_unlabeled += 1\n",
    "    \n",
    "    for post_id in post_comments:\n",
    "        idx = np.argsort(post_comments[post_id][\"sentenceids\"])\n",
    "        for key in post_comments[post_id]:\n",
    "            if key == \"nlabeled\":\n",
    "                continue\n",
    "            post_comments[post_id][key] = [post_comments[post_id][key][id] for id in idx]\n",
    "    \n",
    "    return post_comments, total_comments_labeled, total_comments_unlabeled"
   ]
  },
  {
   "cell_type": "code",
   "execution_count": null,
   "metadata": {},
   "outputs": [],
   "source": [
    "post_comments, t_labeled, t_unlabeled = consolidate_comments_with_posts()"
   ]
  },
  {
   "cell_type": "code",
   "execution_count": null,
   "metadata": {},
   "outputs": [],
   "source": [
    "post_comments['91px39']"
   ]
  },
  {
   "cell_type": "code",
   "execution_count": null,
   "metadata": {},
   "outputs": [],
   "source": [
    "print (len(post_comments.keys()), t_labeled, t_unlabeled)"
   ]
  },
  {
   "cell_type": "code",
   "execution_count": null,
   "metadata": {},
   "outputs": [],
   "source": [
    "num_comments_per = 0\n",
    "for post_id in post_comments:\n",
    "    num_comments_per += len(post_comments[post_id][\"authors\"])\n",
    "print (num_comments_per / 8403)"
   ]
  },
  {
   "cell_type": "code",
   "execution_count": null,
   "metadata": {},
   "outputs": [],
   "source": [
    "n_complete_labeled_grouped_comments = 0\n",
    "n_partially_labeled_grouped_comments = 0\n",
    "n_unlabeled_grouped_comments = 0\n",
    "users_comments = {}\n",
    "\n",
    "for post_id in post_comments:\n",
    "    is_completely_labeled_group = True\n",
    "    is_partially_labeled_group = False\n",
    "    prev_author = post_comments[post_id][\"authors\"][0]\n",
    "    prev_timestamp = post_comments[post_id][\"timestamp\"][0]\n",
    "    \n",
    "    for i, author in enumerate(post_comments[post_id][\"authors\"]):\n",
    "        if prev_author != author or prev_timestamp != post_comments[post_id][\"timestamp\"][i]:\n",
    "            if is_partially_labeled_group == True:\n",
    "                n_partially_labeled_grouped_comments += 1\n",
    "            else:\n",
    "                n_unlabeled_grouped_comments += 1\n",
    "            is_partially_labeled_group = False\n",
    "            \n",
    "            if is_completely_labeled_group == True:\n",
    "                n_complete_labeled_grouped_comments += 1\n",
    "            is_completely_labeled_group = True\n",
    "            \n",
    "            if prev_author not in users_comments:\n",
    "                users_comments[prev_author] = 0\n",
    "            users_comments[prev_author] += 1\n",
    "            \n",
    "            prev_author = author\n",
    "            prev_timestamp = post_comments[post_id][\"timestamp\"][i]\n",
    "        \n",
    "        if post_comments[post_id][\"Support\"][i] != -1:\n",
    "            is_partially_labeled_group = True\n",
    "        else:\n",
    "            is_completely_labeled_group = False\n",
    "        \n",
    "    if is_partially_labeled_group == True:\n",
    "        n_partially_labeled_grouped_comments += 1\n",
    "    else:\n",
    "        n_unlabeled_grouped_comments += 1\n",
    "        \n",
    "    if is_completely_labeled_group == True:\n",
    "        n_complete_labeled_grouped_comments += 1\n",
    "    \n",
    "    if author not in users_comments:\n",
    "        users_comments[author] = 0\n",
    "    users_comments[author] += 1\n",
    "\n",
    "n_partially_labeled_grouped_comments -= n_complete_labeled_grouped_comments\n",
    "        \n",
    "print (n_complete_labeled_grouped_comments, n_partially_labeled_grouped_comments, n_unlabeled_grouped_comments)\n",
    "print (n_complete_labeled_grouped_comments + n_partially_labeled_grouped_comments + n_unlabeled_grouped_comments)"
   ]
  },
  {
   "cell_type": "markdown",
   "metadata": {},
   "source": [
    "How long are posts? Posts distribution"
   ]
  },
  {
   "cell_type": "code",
   "execution_count": null,
   "metadata": {},
   "outputs": [],
   "source": [
    "post_size = []\n",
    "\n",
    "for i, post in posts_traintest_df.iterrows():\n",
    "    post_id = post[\"id\"]\n",
    "    post_size.append(len(post[\"selftext\"].split(\" \")))"
   ]
  },
  {
   "cell_type": "code",
   "execution_count": null,
   "metadata": {},
   "outputs": [],
   "source": [
    "np.sqrt(np.std(post_size))"
   ]
  },
  {
   "cell_type": "code",
   "execution_count": null,
   "metadata": {},
   "outputs": [],
   "source": [
    "import matplotlib.pyplot as plt\n",
    "import seaborn as sns\n",
    "\n",
    "# matplotlib histogram\n",
    "plt.hist(post_size, color = 'blue', edgecolor = 'black',\n",
    "        bins = int(90))\n",
    "\n",
    "# seaborn histogram\n",
    "#sns.distplot(post_size, hist=True, kde=False, \n",
    "#             bins=int(90), color = 'blue',\n",
    "#             hist_kws={'edgecolor':'black'})\n",
    "# Add labels\n",
    "plt.title('Histogram of Post sizes')\n",
    "plt.xlabel('post size')\n",
    "plt.ylabel('number of posts')\n",
    "plt.show()"
   ]
  },
  {
   "cell_type": "code",
   "execution_count": null,
   "metadata": {},
   "outputs": [],
   "source": [
    "users_posts = {}\n",
    "total_posts = 0\n",
    "maxposts = 0\n",
    "\n",
    "for i, post in posts_traintest_df.iterrows():\n",
    "    author = post[\"author\"]\n",
    "    if author not in users_posts:\n",
    "        users_posts[author] = 0\n",
    "    users_posts[author] += 1\n",
    "    if users_posts[author] > maxposts:\n",
    "        maxposts = users_posts[author]\n",
    "    total_posts += 1\n",
    "\n",
    "print (total_posts / len(users_posts.keys()), maxposts)"
   ]
  },
  {
   "cell_type": "code",
   "execution_count": null,
   "metadata": {},
   "outputs": [],
   "source": [
    "list_users_posts = []\n",
    "\n",
    "for user in users_posts:\n",
    "    list_users_posts.append(users_posts[user])\n",
    "\n",
    "# matplotlib histogram\n",
    "plt.hist(list_users_posts, color = 'blue', edgecolor = 'black',\n",
    "        bins = int(30))\n",
    "\n",
    "# seaborn histogram\n",
    "#sns.distplot(post_size, hist=True, kde=False, \n",
    "#             bins=int(90), color = 'blue',\n",
    "#             hist_kws={'edgecolor':'black'})\n",
    "# Add labels\n",
    "plt.title('Histogram of posts')\n",
    "plt.xlabel('number of posts')\n",
    "plt.ylabel('authors')\n",
    "plt.show()"
   ]
  },
  {
   "cell_type": "code",
   "execution_count": null,
   "metadata": {},
   "outputs": [],
   "source": [
    "np.sqrt(np.std(list_users_posts))"
   ]
  },
  {
   "cell_type": "code",
   "execution_count": null,
   "metadata": {},
   "outputs": [],
   "source": [
    "list_users_comments = []\n",
    "\n",
    "for user in users_comments:\n",
    "    list_users_comments.append(users_comments[user])\n",
    "\n",
    "# matplotlib histogram\n",
    "plt.hist(list_users_comments, color = 'blue', edgecolor = 'black',\n",
    "        bins = int(30))\n",
    "\n",
    "# seaborn histogram\n",
    "#sns.distplot(post_size, hist=True, kde=False, \n",
    "#             bins=int(90), color = 'blue',\n",
    "#             hist_kws={'edgecolor':'black'})\n",
    "# Add labels\n",
    "plt.title('Histogram of comments')\n",
    "plt.xlabel('number of comments')\n",
    "plt.ylabel('authors')\n",
    "plt.show()"
   ]
  },
  {
   "cell_type": "code",
   "execution_count": null,
   "metadata": {},
   "outputs": [],
   "source": [
    "np.sqrt(np.std(list_users_comments))"
   ]
  },
  {
   "cell_type": "code",
   "execution_count": null,
   "metadata": {},
   "outputs": [],
   "source": [
    "np.max(list_users_comments)"
   ]
  },
  {
   "cell_type": "code",
   "execution_count": null,
   "metadata": {},
   "outputs": [],
   "source": [
    "# import urllib3\n",
    "# import json\n",
    "# from bs4 import BeautifulSoup\n",
    "# import requests\n",
    "import pandas as pd\n",
    "\n",
    "dataset=pd.DataFrame()"
   ]
  },
  {
   "cell_type": "markdown",
   "metadata": {},
   "source": [
    "## Comment tree download from PRAW "
   ]
  },
  {
   "cell_type": "code",
   "execution_count": null,
   "metadata": {},
   "outputs": [],
   "source": [
    "import praw\n",
    "reddit = praw.Reddit(client_id='KjQ7KCga-fZb1w',\n",
    "                     client_secret=\"JmEK20QNxS_WK0EeXKldbFSch04\", password='XKfiQ.G5HsW#9a$',\n",
    "                     user_agent='ChangeMeClient/0.1 by pantut', username='pantut')"
   ]
  },
  {
   "cell_type": "code",
   "execution_count": null,
   "metadata": {},
   "outputs": [],
   "source": [
    "fully_labeled = 0\n",
    "partially_labeled = 0\n",
    "fully_unlabeled = 0\n",
    "\n",
    "comm_lengths = []"
   ]
  },
  {
   "cell_type": "code",
   "execution_count": null,
   "metadata": {},
   "outputs": [],
   "source": [
    "from tqdm import tqdm"
   ]
  },
  {
   "cell_type": "code",
   "execution_count": null,
   "metadata": {},
   "outputs": [],
   "source": [
    "# comment level data\n",
    "commentid = []\n",
    "treeid = []\n",
    "authors = []\n",
    "created_utc = []\n",
    "score = []\n",
    "wordcount = []\n",
    "full_text = []\n",
    "parent = []\n",
    "postid = []\n",
    "values = [[], [], [], [], [], []]\n",
    "\n",
    "# tree level data\n",
    "treeid_t = []\n",
    "depth_t = []\n",
    "length_t = []"
   ]
  },
  {
   "cell_type": "code",
   "execution_count": null,
   "metadata": {},
   "outputs": [],
   "source": [
    "comment_idx = 0\n",
    "tree_idx = 1000000\n",
    "\n",
    "def _get_comment_idx():\n",
    "    global comment_idx\n",
    "    comment_idx += 1\n",
    "    return comment_idx\n",
    "\n",
    "def _get_tree_idx():\n",
    "    global tree_idx\n",
    "    tree_idx += 1\n",
    "    return tree_idx"
   ]
  },
  {
   "cell_type": "code",
   "execution_count": null,
   "metadata": {},
   "outputs": [],
   "source": [
    "keys = [key for key in post_comments.keys()]\n",
    "for ind, submission_id in tqdm(enumerate(keys)):\n",
    "    if 'E+' in submission_id:\n",
    "        continue\n",
    "    \n",
    "    labeled_timestamps = post_comments[submission_id]['timestamp']\n",
    "    num_labeled_comments = len(labeled_timestamps)\n",
    "    \n",
    "    '''\n",
    "    timestamps2labels['emo_support'] = {.. whether comments wrt timestamps are weakly labeled ..}\n",
    "    '''\n",
    "    timestamps2label = [{}]*6\n",
    "    for i in range(6):\n",
    "        for ts in labeled_timestamps:\n",
    "            timestamps2label[i][ts] = -1\n",
    "        for j, value in enumerate(post_comments[submission_id][labels[i]]):\n",
    "            ts = labeled_timestamps[j]\n",
    "            if value == -1:\n",
    "                continue\n",
    "            elif value == 0 and timestamps2label[i][ts] == -1:\n",
    "                timestamps2label[i][ts] = 0\n",
    "            elif value == 0 and timestamps2label[i][ts] == 1:\n",
    "                continue\n",
    "            else:\n",
    "                timestamps2label[i][ts] = 1\n",
    "    \n",
    "#     print (timestamps2label)\n",
    "    \n",
    "    submission = reddit.submission(id=submission_id)\n",
    "    submission.comments.replace_more(limit=0)\n",
    "    \n",
    "    def parse_comment(comment, tree_id, parent_id, depth = 1, length = 1):\n",
    "        newcomment_idx = _get_comment_idx()\n",
    "        \n",
    "        ts = comment.created_utc\n",
    "        \n",
    "        '''\n",
    "        prepare data for collection\n",
    "        '''\n",
    "        commentid.append(newcomment_idx)\n",
    "        treeid.append(tree_id)\n",
    "        authors.append(comment.author)\n",
    "        created_utc.append(comment.created_utc)\n",
    "        score.append(comment.score)\n",
    "        wordcount.append(len(comment.body.split()))\n",
    "        full_text.append(comment.body)\n",
    "        parent.append(parent_id)\n",
    "        postid.append(submission_id)\n",
    "        for i, label in enumerate(labels):\n",
    "            if ts in timestamps2label[i]:\n",
    "                values[i].append(timestamps2label[i][ts])\n",
    "            else:\n",
    "                values[i].append(-1)\n",
    "        \n",
    "        max_depth = depth\n",
    "        \n",
    "        for reply in comment.replies:\n",
    "            d, l = parse_comment(reply, tree_id, newcomment_idx, depth + 1)\n",
    "            max_depth = max(max_depth, d)\n",
    "            length += l\n",
    "        \n",
    "        return max_depth, length\n",
    "    \n",
    "    for comment in submission.comments:\n",
    "        if comment.score <= -100:\n",
    "            # don't process highly negative voted comments\n",
    "            continue\n",
    "        \n",
    "        treeidx = _get_tree_idx()\n",
    "        \n",
    "        depth, length = parse_comment(comment, treeidx, -1)\n",
    "        \n",
    "        treeid_t.append(treeidx)\n",
    "        depth_t.append(depth)\n",
    "        length_t.append(length)"
   ]
  },
  {
   "cell_type": "code",
   "execution_count": null,
   "metadata": {},
   "outputs": [],
   "source": []
  }
 ],
 "metadata": {
  "kernelspec": {
   "display_name": "Python (tf36)",
   "language": "python",
   "name": "tf36"
  },
  "language_info": {
   "codemirror_mode": {
    "name": "ipython",
    "version": 3
   },
   "file_extension": ".py",
   "mimetype": "text/x-python",
   "name": "python",
   "nbconvert_exporter": "python",
   "pygments_lexer": "ipython3",
   "version": "3.6.7"
  }
 },
 "nbformat": 4,
 "nbformat_minor": 2
}
