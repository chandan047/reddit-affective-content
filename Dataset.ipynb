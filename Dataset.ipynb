{
 "cells": [
  {
   "cell_type": "code",
   "execution_count": 1,
   "metadata": {},
   "outputs": [],
   "source": [
    "import numpy as np\n",
    "import pandas as pd\n",
    "from os import path\n",
    "\n",
    "import seaborn as sns\n",
    "from matplotlib import pyplot as plt"
   ]
  },
  {
   "cell_type": "code",
   "execution_count": 2,
   "metadata": {},
   "outputs": [],
   "source": [
    "# DATA_HOME = '/home/chandan047/psu/self_disclosure/claff-offmychest/data/'"
   ]
  },
  {
   "cell_type": "code",
   "execution_count": 3,
   "metadata": {},
   "outputs": [],
   "source": [
    "# TRAIN_HOME      = path.join(DATA_HOME, 'training data')\n",
    "# TEST_HOME       = path.join(DATA_HOME, 'test data')\n",
    "# UNLABELED_HOME  = path.join(DATA_HOME, 'unlabeled data')\n",
    "\n",
    "# train_set_df        = pd.read_csv(path.join(TRAIN_HOME, \"labeled_training_set.csv\"))\n",
    "# test_set_df         = pd.read_csv(path.join(TEST_HOME, \"unlabeled_test_set.csv\"))\n",
    "# posts_traintest_df  = pd.read_csv(path.join(UNLABELED_HOME, \"posts_trainingandtest_fullsent.csv\"))\n",
    "# posts_test_df       = pd.read_csv(path.join(UNLABELED_HOME, \"posts_unlabeled_fullsent.csv\"))\n",
    "# comments_score_df   = pd.read_csv(path.join(UNLABELED_HOME, \"comments_score_unlabeled.csv\"))"
   ]
  },
  {
   "cell_type": "code",
   "execution_count": 4,
   "metadata": {},
   "outputs": [],
   "source": [
    "forest_df = pd.read_csv('forest.csv')"
   ]
  },
  {
   "cell_type": "code",
   "execution_count": 5,
   "metadata": {},
   "outputs": [
    {
     "data": {
      "text/plain": [
       "Index(['Unnamed: 0', 'commentid', 'treeid', 'authors', 'created_utc', 'score',\n",
       "       'wordcount', 'full_text', 'parent', 'postid', 'Emotional_disclosure',\n",
       "       'Emotional_disclosure_sentid', 'Information_disclosure',\n",
       "       'Information_disclosure_sentid', 'Support', 'Support_sentid',\n",
       "       'General_support', 'General_support_sentid', 'Info_support',\n",
       "       'Info_support_sentid', 'Emo_support', 'Emo_support_sentid'],\n",
       "      dtype='object')"
      ]
     },
     "execution_count": 5,
     "metadata": {},
     "output_type": "execute_result"
    }
   ],
   "source": [
    "forest_df.columns"
   ]
  },
  {
   "cell_type": "code",
   "execution_count": 6,
   "metadata": {},
   "outputs": [],
   "source": [
    "Labels = ['Emotional_disclosure', 'Emotional_disclosure_sentid', \n",
    "          'Information_disclosure', 'Information_disclosure_sentid', \n",
    "          'Support', 'Support_sentid',\n",
    "          'General_support', 'General_support_sentid', \n",
    "          'Info_support', 'Info_support_sentid', \n",
    "          'Emo_support', 'Emo_support_sentid']"
   ]
  },
  {
   "cell_type": "code",
   "execution_count": 7,
   "metadata": {},
   "outputs": [
    {
     "data": {
      "text/html": [
       "<div>\n",
       "<style scoped>\n",
       "    .dataframe tbody tr th:only-of-type {\n",
       "        vertical-align: middle;\n",
       "    }\n",
       "\n",
       "    .dataframe tbody tr th {\n",
       "        vertical-align: top;\n",
       "    }\n",
       "\n",
       "    .dataframe thead th {\n",
       "        text-align: right;\n",
       "    }\n",
       "</style>\n",
       "<table border=\"1\" class=\"dataframe\">\n",
       "  <thead>\n",
       "    <tr style=\"text-align: right;\">\n",
       "      <th></th>\n",
       "      <th>Unnamed: 0</th>\n",
       "      <th>commentid</th>\n",
       "      <th>treeid</th>\n",
       "      <th>authors</th>\n",
       "      <th>created_utc</th>\n",
       "      <th>score</th>\n",
       "      <th>wordcount</th>\n",
       "      <th>full_text</th>\n",
       "      <th>parent</th>\n",
       "      <th>postid</th>\n",
       "      <th>...</th>\n",
       "      <th>Information_disclosure</th>\n",
       "      <th>Information_disclosure_sentid</th>\n",
       "      <th>Support</th>\n",
       "      <th>Support_sentid</th>\n",
       "      <th>General_support</th>\n",
       "      <th>General_support_sentid</th>\n",
       "      <th>Info_support</th>\n",
       "      <th>Info_support_sentid</th>\n",
       "      <th>Emo_support</th>\n",
       "      <th>Emo_support_sentid</th>\n",
       "    </tr>\n",
       "  </thead>\n",
       "  <tbody>\n",
       "    <tr>\n",
       "      <th>0</th>\n",
       "      <td>0</td>\n",
       "      <td>1</td>\n",
       "      <td>1000001</td>\n",
       "      <td>stinkbugsinfest</td>\n",
       "      <td>1532508063</td>\n",
       "      <td>1902</td>\n",
       "      <td>30</td>\n",
       "      <td>You are quite the writer and have a deep sense...</td>\n",
       "      <td>-1</td>\n",
       "      <td>91px39</td>\n",
       "      <td>...</td>\n",
       "      <td>-1</td>\n",
       "      <td>[]</td>\n",
       "      <td>-1</td>\n",
       "      <td>[]</td>\n",
       "      <td>-1</td>\n",
       "      <td>[]</td>\n",
       "      <td>-1</td>\n",
       "      <td>[]</td>\n",
       "      <td>-1</td>\n",
       "      <td>[]</td>\n",
       "    </tr>\n",
       "    <tr>\n",
       "      <th>1</th>\n",
       "      <td>1</td>\n",
       "      <td>2</td>\n",
       "      <td>1000001</td>\n",
       "      <td>Stimonk</td>\n",
       "      <td>1532516303</td>\n",
       "      <td>507</td>\n",
       "      <td>20</td>\n",
       "      <td>Yeah, you might want to share that story with ...</td>\n",
       "      <td>1</td>\n",
       "      <td>91px39</td>\n",
       "      <td>...</td>\n",
       "      <td>-1</td>\n",
       "      <td>[]</td>\n",
       "      <td>-1</td>\n",
       "      <td>[]</td>\n",
       "      <td>-1</td>\n",
       "      <td>[]</td>\n",
       "      <td>-1</td>\n",
       "      <td>[]</td>\n",
       "      <td>-1</td>\n",
       "      <td>[]</td>\n",
       "    </tr>\n",
       "    <tr>\n",
       "      <th>3</th>\n",
       "      <td>3</td>\n",
       "      <td>4</td>\n",
       "      <td>1000001</td>\n",
       "      <td>hanxperc</td>\n",
       "      <td>1532536955</td>\n",
       "      <td>85</td>\n",
       "      <td>32</td>\n",
       "      <td>awww, forcing to hug when you argue. that's ad...</td>\n",
       "      <td>3</td>\n",
       "      <td>91px39</td>\n",
       "      <td>...</td>\n",
       "      <td>-1</td>\n",
       "      <td>[]</td>\n",
       "      <td>-1</td>\n",
       "      <td>[]</td>\n",
       "      <td>-1</td>\n",
       "      <td>[]</td>\n",
       "      <td>-1</td>\n",
       "      <td>[]</td>\n",
       "      <td>-1</td>\n",
       "      <td>[]</td>\n",
       "    </tr>\n",
       "    <tr>\n",
       "      <th>5</th>\n",
       "      <td>5</td>\n",
       "      <td>6</td>\n",
       "      <td>1000001</td>\n",
       "      <td>shhh14</td>\n",
       "      <td>1532652115</td>\n",
       "      <td>36</td>\n",
       "      <td>60</td>\n",
       "      <td>Okay this is goddamn adorable, and so was this...</td>\n",
       "      <td>5</td>\n",
       "      <td>91px39</td>\n",
       "      <td>...</td>\n",
       "      <td>-1</td>\n",
       "      <td>[]</td>\n",
       "      <td>-1</td>\n",
       "      <td>[]</td>\n",
       "      <td>-1</td>\n",
       "      <td>[]</td>\n",
       "      <td>-1</td>\n",
       "      <td>[]</td>\n",
       "      <td>-1</td>\n",
       "      <td>[]</td>\n",
       "    </tr>\n",
       "    <tr>\n",
       "      <th>6</th>\n",
       "      <td>6</td>\n",
       "      <td>7</td>\n",
       "      <td>1000001</td>\n",
       "      <td>LeniaLilac</td>\n",
       "      <td>1532518450</td>\n",
       "      <td>79</td>\n",
       "      <td>29</td>\n",
       "      <td>Agree! Get two nice notebooks and write it dow...</td>\n",
       "      <td>2</td>\n",
       "      <td>91px39</td>\n",
       "      <td>...</td>\n",
       "      <td>0</td>\n",
       "      <td>[36.0]</td>\n",
       "      <td>0</td>\n",
       "      <td>[36.0]</td>\n",
       "      <td>0</td>\n",
       "      <td>[36.0]</td>\n",
       "      <td>0</td>\n",
       "      <td>[36.0]</td>\n",
       "      <td>0</td>\n",
       "      <td>[36.0]</td>\n",
       "    </tr>\n",
       "  </tbody>\n",
       "</table>\n",
       "<p>5 rows × 22 columns</p>\n",
       "</div>"
      ],
      "text/plain": [
       "   Unnamed: 0  commentid   treeid          authors  created_utc  score  \\\n",
       "0           0          1  1000001  stinkbugsinfest   1532508063   1902   \n",
       "1           1          2  1000001          Stimonk   1532516303    507   \n",
       "3           3          4  1000001         hanxperc   1532536955     85   \n",
       "5           5          6  1000001           shhh14   1532652115     36   \n",
       "6           6          7  1000001       LeniaLilac   1532518450     79   \n",
       "\n",
       "   wordcount                                          full_text  parent  \\\n",
       "0         30  You are quite the writer and have a deep sense...      -1   \n",
       "1         20  Yeah, you might want to share that story with ...       1   \n",
       "3         32  awww, forcing to hug when you argue. that's ad...       3   \n",
       "5         60  Okay this is goddamn adorable, and so was this...       5   \n",
       "6         29  Agree! Get two nice notebooks and write it dow...       2   \n",
       "\n",
       "   postid  ...  Information_disclosure Information_disclosure_sentid  Support  \\\n",
       "0  91px39  ...                      -1                            []       -1   \n",
       "1  91px39  ...                      -1                            []       -1   \n",
       "3  91px39  ...                      -1                            []       -1   \n",
       "5  91px39  ...                      -1                            []       -1   \n",
       "6  91px39  ...                       0                        [36.0]        0   \n",
       "\n",
       "  Support_sentid  General_support General_support_sentid  Info_support  \\\n",
       "0             []               -1                     []            -1   \n",
       "1             []               -1                     []            -1   \n",
       "3             []               -1                     []            -1   \n",
       "5             []               -1                     []            -1   \n",
       "6         [36.0]                0                 [36.0]             0   \n",
       "\n",
       "  Info_support_sentid  Emo_support Emo_support_sentid  \n",
       "0                  []           -1                 []  \n",
       "1                  []           -1                 []  \n",
       "3                  []           -1                 []  \n",
       "5                  []           -1                 []  \n",
       "6              [36.0]            0             [36.0]  \n",
       "\n",
       "[5 rows x 22 columns]"
      ]
     },
     "execution_count": 7,
     "metadata": {},
     "output_type": "execute_result"
    }
   ],
   "source": [
    "forest_df = forest_df.dropna()\n",
    "forest_df.head()"
   ]
  },
  {
   "cell_type": "code",
   "execution_count": 8,
   "metadata": {},
   "outputs": [],
   "source": [
    "class Tree():\n",
    "    def __init__(self, id, created_utc, author):\n",
    "        self.id = id\n",
    "        self.created_utc = created_utc\n",
    "        self.author = author\n",
    "\n",
    "\n",
    "class Post(Tree):\n",
    "    def __init__(self, id, created_utc, author):\n",
    "        Tree.__init__(self, id, created_utc, author)\n",
    "        self.topcomments = None\n",
    "        self.map_id2index = None\n",
    "        self.depth = 0\n",
    "        self.size = 0\n",
    "        \n",
    "        self.partial = False\n",
    "    \n",
    "    def n_topcomments(self):\n",
    "        if self.topcomments == None:\n",
    "            return 0\n",
    "        return len(self.topcomments)\n",
    "    \n",
    "    def add_comment(self, comment):\n",
    "        if comment.labels[0] != -1:\n",
    "            self.partial = True\n",
    "        if self.map_id2index is None:\n",
    "            self.map_id2index = {}\n",
    "        \n",
    "        if self.topcomments is None:\n",
    "            self.topcomments = []\n",
    "        \n",
    "        if comment.id in self.map_id2index:\n",
    "            print (\"Comment {} already added\".format(comment.id))\n",
    "            return False\n",
    "        \n",
    "        if comment.parent == -1:\n",
    "            self.map_id2index[comment.id] = self.n_topcomments()\n",
    "            self.topcomments.append(comment)\n",
    "            self.depth = max(self.depth, comment.depth)\n",
    "            self.size += 1\n",
    "            return True\n",
    "        \n",
    "        for top in self.topcomments:\n",
    "            if top.add_reply(comment):\n",
    "                self.depth = max(self.depth, top.depth)\n",
    "                self.size += 1\n",
    "                return True\n",
    "        \n",
    "        return False\n",
    "\n",
    "\n",
    "class Comment(Tree):\n",
    "    def __init__(self, id, postid, created_utc, author, score, full_text, wordcount, parent, labels):\n",
    "        Tree.__init__(self, id, created_utc, author)\n",
    "        self.postid = postid\n",
    "        self.replies = None\n",
    "        self.map_id2index = None\n",
    "        self.parent = parent\n",
    "        self.score = score\n",
    "        self.full_text = full_text\n",
    "        self.wordcount = wordcount\n",
    "        self.labels = labels\n",
    "        \n",
    "        self.depth = 1\n",
    "        self.size = 1\n",
    "        \n",
    "    def is_labeled(self):\n",
    "        return self.labels[0] != -1\n",
    "    \n",
    "    def n_direct_replies(self):\n",
    "        if self.replies == None:\n",
    "            return 0\n",
    "        return len(self.replies)\n",
    "    \n",
    "    def add_reply(self, reply):\n",
    "        if self.id != reply.parent and self.replies is None:\n",
    "            return False\n",
    "        \n",
    "        if self.map_id2index is None:\n",
    "            self.map_id2index = {}\n",
    "        \n",
    "        if self.replies is None:\n",
    "            self.replies = []\n",
    "        \n",
    "        if reply.id in self.map_id2index:\n",
    "            print (\"Direct reply {} already added\".format(reply.id))\n",
    "            return False\n",
    "        \n",
    "        if self.id != reply.parent:\n",
    "            for r in self.replies:\n",
    "                if r.add_reply(reply):\n",
    "                    self.depth = max(self.depth, r.depth + 1)\n",
    "                    self.size += 1\n",
    "                    return True\n",
    "            return False\n",
    "        else:\n",
    "            self.map_id2index[reply.id] = self.n_direct_replies()\n",
    "            self.replies.append(reply)\n",
    "            return True"
   ]
  },
  {
   "cell_type": "code",
   "execution_count": 9,
   "metadata": {},
   "outputs": [],
   "source": [
    "def buildPosts(df):\n",
    "    posts = []\n",
    "    map_id2index = {}\n",
    "    \n",
    "    comments = []\n",
    "    \n",
    "    failures = 0\n",
    "    \n",
    "    for _, row in df.iterrows():\n",
    "        # check if this post exists\n",
    "        index = None\n",
    "        postid = row['postid']\n",
    "        if postid in map_id2index:\n",
    "            index = map_id2index[postid]\n",
    "        else:\n",
    "            index = len(posts)\n",
    "            posts.append(Post(postid, None, None))\n",
    "            map_id2index[postid] = index\n",
    "    \n",
    "        # add comment to the post\n",
    "        comment = Comment(row['commentid'], row['postid'], row['created_utc'], row['authors'], \n",
    "                          row['score'], row['full_text'], row['wordcount'], row['parent'], \n",
    "                          [row[l] for l in Labels])\n",
    "    \n",
    "        if posts[index].add_comment(comment):\n",
    "            comments.append(comment)\n",
    "        else:\n",
    "            failures += 1\n",
    "    \n",
    "    print ('failures', failures)\n",
    "    print ('total comments', forest_df.shape)\n",
    "    \n",
    "    return posts, comments"
   ]
  },
  {
   "cell_type": "code",
   "execution_count": 10,
   "metadata": {},
   "outputs": [
    {
     "name": "stdout",
     "output_type": "stream",
     "text": [
      "failures 17270\n",
      "total comments (130244, 22)\n"
     ]
    }
   ],
   "source": [
    "posts, comments = buildPosts(forest_df)"
   ]
  },
  {
   "cell_type": "markdown",
   "metadata": {},
   "source": [
    "# Dataset preparation"
   ]
  },
  {
   "cell_type": "code",
   "execution_count": 11,
   "metadata": {},
   "outputs": [],
   "source": [
    "N_COMMS = 12"
   ]
  },
  {
   "cell_type": "code",
   "execution_count": 12,
   "metadata": {},
   "outputs": [],
   "source": [
    "prefix1 = \"Commentid\"\n",
    "prefix2 = \"text\"\n",
    "\n",
    "columns = []\n",
    "for i in range(N_COMMS):\n",
    "    columns.append(prefix1 + str(i+1))\n",
    "    columns.append(prefix2 + str(i+1))\n",
    "\n",
    "dataset = pd.DataFrame(columns=columns)"
   ]
  },
  {
   "cell_type": "code",
   "execution_count": 13,
   "metadata": {},
   "outputs": [
    {
     "data": {
      "text/html": [
       "<div>\n",
       "<style scoped>\n",
       "    .dataframe tbody tr th:only-of-type {\n",
       "        vertical-align: middle;\n",
       "    }\n",
       "\n",
       "    .dataframe tbody tr th {\n",
       "        vertical-align: top;\n",
       "    }\n",
       "\n",
       "    .dataframe thead th {\n",
       "        text-align: right;\n",
       "    }\n",
       "</style>\n",
       "<table border=\"1\" class=\"dataframe\">\n",
       "  <thead>\n",
       "    <tr style=\"text-align: right;\">\n",
       "      <th></th>\n",
       "      <th>Commentid1</th>\n",
       "      <th>text1</th>\n",
       "      <th>Commentid2</th>\n",
       "      <th>text2</th>\n",
       "      <th>Commentid3</th>\n",
       "      <th>text3</th>\n",
       "      <th>Commentid4</th>\n",
       "      <th>text4</th>\n",
       "      <th>Commentid5</th>\n",
       "      <th>text5</th>\n",
       "      <th>...</th>\n",
       "      <th>Commentid8</th>\n",
       "      <th>text8</th>\n",
       "      <th>Commentid9</th>\n",
       "      <th>text9</th>\n",
       "      <th>Commentid10</th>\n",
       "      <th>text10</th>\n",
       "      <th>Commentid11</th>\n",
       "      <th>text11</th>\n",
       "      <th>Commentid12</th>\n",
       "      <th>text12</th>\n",
       "    </tr>\n",
       "  </thead>\n",
       "  <tbody>\n",
       "  </tbody>\n",
       "</table>\n",
       "<p>0 rows × 24 columns</p>\n",
       "</div>"
      ],
      "text/plain": [
       "Empty DataFrame\n",
       "Columns: [Commentid1, text1, Commentid2, text2, Commentid3, text3, Commentid4, text4, Commentid5, text5, Commentid6, text6, Commentid7, text7, Commentid8, text8, Commentid9, text9, Commentid10, text10, Commentid11, text11, Commentid12, text12]\n",
       "Index: []\n",
       "\n",
       "[0 rows x 24 columns]"
      ]
     },
     "execution_count": 13,
     "metadata": {},
     "output_type": "execute_result"
    }
   ],
   "source": [
    "dataset.head()"
   ]
  },
  {
   "cell_type": "markdown",
   "metadata": {},
   "source": [
    "### We need 12 comments per line"
   ]
  },
  {
   "cell_type": "markdown",
   "metadata": {},
   "source": [
    "## Partially labeled direct reply comments"
   ]
  },
  {
   "cell_type": "markdown",
   "metadata": {},
   "source": [
    "We take around 15 direct reply comments with atleast 12 legnth"
   ]
  },
  {
   "cell_type": "code",
   "execution_count": 14,
   "metadata": {},
   "outputs": [],
   "source": [
    "partial = np.zeros(len(comments))\n",
    "\n",
    "for index, comment in enumerate(comments):\n",
    "    if comment.is_labeled():\n",
    "        partial[index] = 1\n",
    "    elif comment.replies != None:\n",
    "        if any([r.is_labeled() for r in comment.replies]):\n",
    "            partial[index] = 1"
   ]
  },
  {
   "cell_type": "code",
   "execution_count": 15,
   "metadata": {},
   "outputs": [],
   "source": [
    "partial_comments = [comment for index, comment in enumerate(comments) if partial[index] == 1]"
   ]
  },
  {
   "cell_type": "code",
   "execution_count": 16,
   "metadata": {
    "scrolled": true
   },
   "outputs": [
    {
     "name": "stdout",
     "output_type": "stream",
     "text": [
      "Direct reply comments 16\n"
     ]
    }
   ],
   "source": [
    "pcomm_sizes = [1 + pcomm.n_direct_replies() for pcomm in partial_comments]\n",
    "big_pcomm_inds = [index for index, sz in enumerate(pcomm_sizes) if sz >= 12]\n",
    "big_pcomm_sizes = [pcomm_sizes[index] for index in big_pcomm_inds]\n",
    "print (\"Direct reply comments\", len(big_pcomm_sizes))"
   ]
  },
  {
   "cell_type": "code",
   "execution_count": 17,
   "metadata": {},
   "outputs": [],
   "source": [
    "big_pcomm_inds?"
   ]
  },
  {
   "cell_type": "code",
   "execution_count": 18,
   "metadata": {},
   "outputs": [
    {
     "data": {
      "image/png": "[encoded data removed]",
      "text/plain": [
       "<Figure size 432x288 with 1 Axes>"
      ]
     },
     "metadata": {
      "needs_background": "light"
     },
     "output_type": "display_data"
    }
   ],
   "source": [
    "ax = sns.distplot(big_pcomm_sizes)"
   ]
  },
  {
   "cell_type": "code",
   "execution_count": 19,
   "metadata": {},
   "outputs": [],
   "source": [
    "DATAID1 = []\n",
    "\n",
    "def add_DATA1(N = 15):\n",
    "    partial_comments = [comment for index, comment in enumerate(comments) if partial[index] == 1]\n",
    "    pcomm_sizes = [1 + pcomm.n_direct_replies() for pcomm in partial_comments]\n",
    "    big_pcomm_inds = [index for index, sz in enumerate(pcomm_sizes) if sz >= 12]\n",
    "    \n",
    "    dataset = pd.DataFrame(columns=columns)\n",
    "    \n",
    "    for index, ind in enumerate(big_pcomm_inds):\n",
    "        if index >= N:\n",
    "            break\n",
    "        \n",
    "        parent = partial_comments[ind]\n",
    "        DATAID1.append(parent.id)\n",
    "        \n",
    "        # TODO : change to comment full_text\n",
    "        data = [parent.id, parent.full_text]\n",
    "        # data = [parent.id, \"\"]\n",
    "        \n",
    "        assert(parent.n_direct_replies() >= N_COMMS - 1)\n",
    "        \n",
    "        for j, child in enumerate(parent.replies):\n",
    "            if j >= N_COMMS - 1:\n",
    "                break\n",
    "            \n",
    "            DATAID1.append(child.id)\n",
    "            data.append(child.id)\n",
    "            data.append(child.full_text)\n",
    "            # data.append(\"\")\n",
    "        \n",
    "        data = {col:[dat] for col, dat in zip(columns, data)}\n",
    "        dataset = dataset.append(pd.DataFrame(data))\n",
    "    \n",
    "    return dataset"
   ]
  },
  {
   "cell_type": "code",
   "execution_count": 20,
   "metadata": {},
   "outputs": [
    {
     "name": "stdout",
     "output_type": "stream",
     "text": [
      "(15, 24)\n"
     ]
    }
   ],
   "source": [
    "df = add_DATA1()\n",
    "print (df.shape)\n",
    "dataset = dataset.append(df)"
   ]
  },
  {
   "cell_type": "markdown",
   "metadata": {},
   "source": [
    "## Partially labeled posts with atleast 12 aggregate comments"
   ]
  },
  {
   "cell_type": "markdown",
   "metadata": {},
   "source": [
    "We take first 12 comments (both direct and in-direct) from 185 posts "
   ]
  },
  {
   "cell_type": "code",
   "execution_count": 21,
   "metadata": {},
   "outputs": [
    {
     "name": "stdout",
     "output_type": "stream",
     "text": [
      "Aggregate comments 1423\n"
     ]
    }
   ],
   "source": [
    "partial_posts = [post for post in posts if post.partial]\n",
    "big_partial_inds = [index for index, partial in enumerate(partial_posts) if partial.size >= 12]\n",
    "big_partial_sizes = [partial_posts[index].size for index in big_partial_inds]\n",
    "print (\"Aggregate comments\", len(big_partial_inds))"
   ]
  },
  {
   "cell_type": "code",
   "execution_count": 22,
   "metadata": {},
   "outputs": [
    {
     "data": {
      "image/png": "[encoded data removed]",
      "text/plain": [
       "<Figure size 432x288 with 1 Axes>"
      ]
     },
     "metadata": {
      "needs_background": "light"
     },
     "output_type": "display_data"
    }
   ],
   "source": [
    "ax = sns.distplot(big_partial_sizes)"
   ]
  },
  {
   "cell_type": "code",
   "execution_count": 23,
   "metadata": {},
   "outputs": [],
   "source": [
    "DATAID2 = []\n",
    "\n",
    "def add_DATA2(N = 185):\n",
    "    partial_posts = [post for post in posts if post.partial]\n",
    "    big_partial_inds = [index for index, partial in enumerate(partial_posts) if partial.size >= 12]\n",
    "    \n",
    "    dataset = pd.DataFrame(columns=columns)\n",
    "    \n",
    "    all_ids = forest_df['postid'].values.tolist()\n",
    "    \n",
    "    for index, ind in enumerate(big_partial_inds):\n",
    "        if index >= N:\n",
    "            break\n",
    "        \n",
    "        # TODO : change to comment full_text\n",
    "        # data = [parent.id, parent.full_text]\n",
    "        data = []\n",
    "        \n",
    "        postid = partial_posts[ind].id\n",
    "        \n",
    "        start_ind = next(i for i, pid in enumerate(all_ids) if pid == postid)\n",
    "        for j in range(N_COMMS):\n",
    "            data.append(forest_df.iloc[start_ind]['commentid'])\n",
    "            data.append(forest_df.iloc[start_ind]['full_text'])\n",
    "            # data.append(\"\")\n",
    "            start_ind += 1\n",
    "        \n",
    "        data = {col:[dat] for col, dat in zip(columns, data)}\n",
    "        dataset = dataset.append(pd.DataFrame(data))\n",
    "    \n",
    "    return dataset"
   ]
  },
  {
   "cell_type": "code",
   "execution_count": 24,
   "metadata": {},
   "outputs": [],
   "source": [
    "df = add_DATA2()\n",
    "dataset = dataset.append(df)"
   ]
  },
  {
   "cell_type": "code",
   "execution_count": 25,
   "metadata": {},
   "outputs": [],
   "source": [
    "dataset?"
   ]
  },
  {
   "cell_type": "code",
   "execution_count": 26,
   "metadata": {},
   "outputs": [],
   "source": [
    "dataset.to_csv(\"dataset.csv\")"
   ]
  },
  {
   "cell_type": "code",
   "execution_count": null,
   "metadata": {},
   "outputs": [],
   "source": []
  }
 ],
 "metadata": {
  "kernelspec": {
   "display_name": "Python (tf36)",
   "language": "python",
   "name": "tf36"
  },
  "language_info": {
   "codemirror_mode": {
    "name": "ipython",
    "version": 3
   },
   "file_extension": ".py",
   "mimetype": "text/x-python",
   "name": "python",
   "nbconvert_exporter": "python",
   "pygments_lexer": "ipython3",
   "version": "3.6.7"
  }
 },
 "nbformat": 4,
 "nbformat_minor": 2
}
